{
 "cells": [
  {
   "cell_type": "markdown",
   "id": "0df57a9d",
   "metadata": {},
   "source": [
    "# Part 2. Train model\n",
    "This notebook is used for training, i uploaded the output from notebook 1 to google drive and then download the data to vast.ai server via gdown. "
   ]
  },
  {
   "cell_type": "code",
   "execution_count": null,
   "id": "e31297bc",
   "metadata": {},
   "outputs": [],
   "source": [
    "%%capture\n",
    "!sudo apt update\n",
    "!sudo apt install build-essential -y\n",
    "!sudo apt-get install manpages-dev -y\n",
    "!sudo apt install gcc -y\n",
    "!apt-get install git-lfs -y\n",
    "!sudo apt install unzip -y"
   ]
  },
  {
   "cell_type": "code",
   "execution_count": null,
   "id": "21bd81a3",
   "metadata": {},
   "outputs": [],
   "source": [
    "%%capture\n",
    "!pip install gdown -q\n",
    "!pip install transformers -q\n",
    "!pip install datasets -q\n",
    "!pip install jiwer -q\n",
    "!gdown your_own_id\n",
    "!pip install huggingface_hub -q\n"
   ]
  },
  {
   "cell_type": "code",
   "execution_count": null,
   "id": "7a4d84f0",
   "metadata": {},
   "outputs": [],
   "source": [
    "!unzip -q saved.zip "
   ]
  },
  {
   "cell_type": "code",
   "execution_count": null,
   "id": "2d2a711b",
   "metadata": {},
   "outputs": [],
   "source": [
    "!rm -rf saved.zip "
   ]
  },
  {
   "cell_type": "code",
   "execution_count": 1,
   "id": "e746d535",
   "metadata": {},
   "outputs": [],
   "source": [
    "import os\n",
    "os.environ[\"WANDB_DISABLED\"] = \"true\""
   ]
  },
  {
   "cell_type": "code",
   "execution_count": 2,
   "id": "de2608d0",
   "metadata": {},
   "outputs": [],
   "source": [
    "!git config --global credential.helper store"
   ]
  },
  {
   "cell_type": "code",
   "execution_count": 3,
   "id": "1de6f68e",
   "metadata": {},
   "outputs": [
    {
     "name": "stdout",
     "output_type": "stream",
     "text": [
      "Login successful\n",
      "Your token has been saved to /root/.huggingface/token\n"
     ]
    }
   ],
   "source": [
    "from huggingface_hub import notebook_login\n",
    "\n",
    "notebook_login()"
   ]
  },
  {
   "cell_type": "code",
   "execution_count": 4,
   "id": "c4368096",
   "metadata": {},
   "outputs": [],
   "source": [
    "from datasets import load_from_disk\n",
    "import numpy as np\n",
    "urdudata = load_from_disk(\"saved\")"
   ]
  },
  {
   "cell_type": "code",
   "execution_count": 5,
   "id": "b4b98c1d",
   "metadata": {},
   "outputs": [
    {
     "data": {
      "text/plain": [
       "DatasetDict({\n",
       "    train: Dataset({\n",
       "        features: ['input_values', 'input_length', 'labels'],\n",
       "        num_rows: 48827\n",
       "    })\n",
       "    test: Dataset({\n",
       "        features: ['input_values', 'input_length', 'labels'],\n",
       "        num_rows: 3298\n",
       "    })\n",
       "})"
      ]
     },
     "execution_count": 5,
     "metadata": {},
     "output_type": "execute_result"
    }
   ],
   "source": [
    "urdudata"
   ]
  },
  {
   "cell_type": "code",
   "execution_count": 6,
   "id": "3d444870",
   "metadata": {},
   "outputs": [],
   "source": [
    "from transformers import Wav2Vec2CTCTokenizer\n",
    "tokenizer = Wav2Vec2CTCTokenizer(\"./saved/vocab.json\", unk_token=\"[UNK]\", pad_token=\"[PAD]\", word_delimiter_token=\"|\")"
   ]
  },
  {
   "cell_type": "code",
   "execution_count": 7,
   "id": "feecd299",
   "metadata": {},
   "outputs": [],
   "source": [
    "from transformers import Wav2Vec2FeatureExtractor\n",
    "feature_extractor = Wav2Vec2FeatureExtractor(feature_size=1, sampling_rate=16000, padding_value=0.0, do_normalize=True, return_attention_mask=True)"
   ]
  },
  {
   "cell_type": "code",
   "execution_count": 8,
   "id": "3629c23d",
   "metadata": {},
   "outputs": [],
   "source": [
    "from transformers import Wav2Vec2Processor\n",
    "processor = Wav2Vec2Processor(feature_extractor=feature_extractor, tokenizer=tokenizer)"
   ]
  },
  {
   "cell_type": "code",
   "execution_count": 9,
   "id": "eba632a9",
   "metadata": {},
   "outputs": [],
   "source": [
    "import torch\n",
    "import datasets\n",
    "from dataclasses import dataclass, field\n",
    "from typing import Any, Dict, List, Optional, Union\n",
    "\n",
    "@dataclass\n",
    "class DataCollatorCTCWithPadding:\n",
    "    \"\"\"\n",
    "    Data collator that will dynamically pad the inputs received.\n",
    "    Args:\n",
    "        processor (:class:`~transformers.Wav2Vec2Processor`)\n",
    "            The processor used for proccessing the data.\n",
    "        padding (:obj:`bool`, :obj:`str` or :class:`~transformers.tokenization_utils_base.PaddingStrategy`, `optional`, defaults to :obj:`True`):\n",
    "            Select a strategy to pad the returned sequences (according to the model's padding side and padding index)\n",
    "            among:\n",
    "            * :obj:`True` or :obj:`'longest'`: Pad to the longest sequence in the batch (or no padding if only a single\n",
    "              sequence if provided).\n",
    "            * :obj:`'max_length'`: Pad to a maximum length specified with the argument :obj:`max_length` or to the\n",
    "              maximum acceptable input length for the model if that argument is not provided.\n",
    "            * :obj:`False` or :obj:`'do_not_pad'` (default): No padding (i.e., can output a batch with sequences of\n",
    "              different lengths).\n",
    "    \"\"\"\n",
    "\n",
    "    processor: Wav2Vec2Processor\n",
    "    padding: Union[bool, str] = True\n",
    "\n",
    "    def __call__(self, features: List[Dict[str, Union[List[int], torch.Tensor]]]) -> Dict[str, torch.Tensor]:\n",
    "        # split inputs and labels since they have to be of different lenghts and need\n",
    "        # different padding methods\n",
    "        input_features = [{\"input_values\": feature[\"input_values\"]} for feature in features]\n",
    "        label_features = [{\"input_ids\": feature[\"labels\"]} for feature in features]\n",
    "\n",
    "        batch = self.processor.pad(\n",
    "            input_features,\n",
    "            padding=self.padding,\n",
    "            return_tensors=\"pt\",\n",
    "        )\n",
    "        with self.processor.as_target_processor():\n",
    "            labels_batch = self.processor.pad(\n",
    "                label_features,\n",
    "                padding=self.padding,\n",
    "                return_tensors=\"pt\",\n",
    "            )\n",
    "\n",
    "        # replace padding with -100 to ignore loss correctly\n",
    "        labels = labels_batch[\"input_ids\"].masked_fill(labels_batch.attention_mask.ne(1), -100)\n",
    "\n",
    "        batch[\"labels\"] = labels\n",
    "\n",
    "        return batch"
   ]
  },
  {
   "cell_type": "code",
   "execution_count": 10,
   "id": "9f9edb46",
   "metadata": {},
   "outputs": [],
   "source": [
    "data_collator = DataCollatorCTCWithPadding(processor=processor, padding=True)"
   ]
  },
  {
   "cell_type": "code",
   "execution_count": 11,
   "id": "f39aac0d",
   "metadata": {},
   "outputs": [],
   "source": [
    "wer_metric = datasets.load_metric(\"wer\")\n",
    "cer_metric = datasets.load_metric(\"cer\")"
   ]
  },
  {
   "cell_type": "code",
   "execution_count": 12,
   "id": "9002521e",
   "metadata": {},
   "outputs": [],
   "source": [
    "def compute_metrics(pred):\n",
    "    pred_logits = pred.predictions\n",
    "    pred_ids = np.argmax(pred_logits, axis=-1)\n",
    "\n",
    "    pred.label_ids[pred.label_ids == -100] = processor.tokenizer.pad_token_id\n",
    "\n",
    "    pred_str = processor.batch_decode(pred_ids)\n",
    "    # we do not want to group tokens when computing the metrics\n",
    "    label_str = processor.batch_decode(pred.label_ids, group_tokens=False)\n",
    "\n",
    "    wer = wer_metric.compute(predictions=pred_str, references=label_str)\n",
    "    cer = cer_metric.compute(predictions=pred_str, references=label_str)\n",
    "    return {\"wer\": wer,\"cer\": cer}"
   ]
  },
  {
   "cell_type": "code",
   "execution_count": 13,
   "id": "8f10a979",
   "metadata": {},
   "outputs": [
    {
     "name": "stderr",
     "output_type": "stream",
     "text": [
      "Some weights of the model checkpoint at facebook/wav2vec2-large-xlsr-53 were not used when initializing Wav2Vec2ForCTC: ['project_q.weight', 'project_q.bias', 'project_hid.bias', 'project_hid.weight', 'quantizer.codevectors', 'quantizer.weight_proj.weight', 'quantizer.weight_proj.bias']\n",
      "- This IS expected if you are initializing Wav2Vec2ForCTC from the checkpoint of a model trained on another task or with another architecture (e.g. initializing a BertForSequenceClassification model from a BertForPreTraining model).\n",
      "- This IS NOT expected if you are initializing Wav2Vec2ForCTC from the checkpoint of a model that you expect to be exactly identical (initializing a BertForSequenceClassification model from a BertForSequenceClassification model).\n",
      "Some weights of Wav2Vec2ForCTC were not initialized from the model checkpoint at facebook/wav2vec2-large-xlsr-53 and are newly initialized: ['lm_head.weight', 'lm_head.bias']\n",
      "You should probably TRAIN this model on a down-stream task to be able to use it for predictions and inference.\n"
     ]
    }
   ],
   "source": [
    "from transformers import Wav2Vec2ForCTC\n",
    "\n",
    "model = Wav2Vec2ForCTC.from_pretrained(\n",
    "    \"facebook/wav2vec2-large-xlsr-53\", \n",
    "    attention_dropout=0.1,\n",
    "    hidden_dropout=0.1,\n",
    "    feat_proj_dropout=0.0,\n",
    "    mask_time_prob=0.05,\n",
    "    layerdrop=0.1,\n",
    "    ctc_loss_reduction=\"mean\", \n",
    "    pad_token_id=processor.tokenizer.pad_token_id,\n",
    "    vocab_size=len(processor.tokenizer)\n",
    ")\n",
    "\n",
    "\n",
    "model.config.ctc_zero_infinity=True"
   ]
  },
  {
   "cell_type": "code",
   "execution_count": 14,
   "id": "67539861",
   "metadata": {},
   "outputs": [
    {
     "name": "stderr",
     "output_type": "stream",
     "text": [
      "/opt/conda/lib/python3.7/site-packages/transformers/models/wav2vec2/modeling_wav2vec2.py:1621: FutureWarning: The method `freeze_feature_extractor` is deprecated and will be removed in Transformers v5.Please use the equivalent `freeze_feature_encoder` method instead.\n",
      "  FutureWarning,\n"
     ]
    }
   ],
   "source": [
    "model.freeze_feature_extractor()\n",
    "model.gradient_checkpointing_enable()"
   ]
  },
  {
   "cell_type": "code",
   "execution_count": 15,
   "id": "bba61ee8",
   "metadata": {},
   "outputs": [
    {
     "name": "stderr",
     "output_type": "stream",
     "text": [
      "Using the `WANDB_DISABLED` environment variable is deprecated and will be removed in v5. Use the --report_to flag to control the integrations used for logging result (for instance --report_to none).\n"
     ]
    }
   ],
   "source": [
    "from transformers import TrainingArguments\n",
    "\n",
    "training_args = TrainingArguments(\n",
    "  output_dir=\"./urdumodel\",\n",
    "  group_by_length=True,\n",
    "  per_device_train_batch_size=24,\n",
    "  per_device_eval_batch_size=24,\n",
    "  gradient_accumulation_steps=4,\n",
    "  evaluation_strategy=\"epoch\",\n",
    "  num_train_epochs=20,\n",
    "  fp16=True,\n",
    "  save_steps=500,\n",
    "  eval_steps=500,\n",
    "  logging_steps=500,\n",
    "  learning_rate=3e-4,\n",
    "  save_total_limit=2,\n",
    "  push_to_hub=True\n",
    "\n",
    ")"
   ]
  },
  {
   "cell_type": "code",
   "execution_count": 16,
   "id": "81024eea",
   "metadata": {
    "scrolled": true
   },
   "outputs": [
    {
     "name": "stderr",
     "output_type": "stream",
     "text": [
      "/workspace/./urdumodel is already a clone of https://huggingface.co/Talha/urdumodel. Make sure you pull the latest changes with `repo.git_pull()`.\n",
      "Using cuda_amp half precision backend\n"
     ]
    }
   ],
   "source": [
    "from transformers import Trainer\n",
    "\n",
    "trainer = Trainer(\n",
    "    model=model,\n",
    "    data_collator=data_collator,\n",
    "    args=training_args,\n",
    "    compute_metrics=compute_metrics,\n",
    "    train_dataset=urdudata[\"train\"],\n",
    "    eval_dataset=urdudata[\"test\"],\n",
    "    tokenizer=processor.feature_extractor,\n",
    ")"
   ]
  },
  {
   "cell_type": "code",
   "execution_count": 17,
   "id": "d29fee55",
   "metadata": {},
   "outputs": [
    {
     "name": "stderr",
     "output_type": "stream",
     "text": [
      "Loading model from urdumodel/checkpoint-7500.\n",
      "The following columns in the training set don't have a corresponding argument in `Wav2Vec2ForCTC.forward` and have been ignored: input_length. If input_length are not expected by `Wav2Vec2ForCTC.forward`,  you can safely ignore this message.\n",
      "/opt/conda/lib/python3.7/site-packages/transformers/optimization.py:310: FutureWarning: This implementation of AdamW is deprecated and will be removed in a future version. Use the PyTorch implementation torch.optim.AdamW instead, or set `no_deprecation_warning=True` to disable this warning\n",
      "  FutureWarning,\n",
      "***** Running training *****\n",
      "  Num examples = 48827\n",
      "  Num Epochs = 20\n",
      "  Instantaneous batch size per device = 24\n",
      "  Total train batch size (w. parallel, distributed & accumulation) = 96\n",
      "  Gradient Accumulation steps = 4\n",
      "  Total optimization steps = 10160\n",
      "  Continuing training from checkpoint, will skip to saved global_step\n",
      "  Continuing training from epoch 14\n",
      "  Continuing training from global step 7500\n",
      "  Will skip the first 14 epochs then the first 1552 batches in the first epoch. If this takes a lot of time, you can add the `--ignore_data_skip` flag to your launch command, but you will resume the training on data already seen by your model.\n"
     ]
    },
    {
     "data": {
      "application/vnd.jupyter.widget-view+json": {
       "model_id": "aff2d4613184409993da80633bc1b634",
       "version_major": 2,
       "version_minor": 0
      },
      "text/plain": [
       "  0%|          | 0/1552 [00:00<?, ?it/s]"
      ]
     },
     "metadata": {},
     "output_type": "display_data"
    },
    {
     "data": {
      "text/html": [
       "\n",
       "    <div>\n",
       "      \n",
       "      <progress value='10160' max='10160' style='width:300px; height:20px; vertical-align: middle;'></progress>\n",
       "      [10160/10160 6:11:50, Epoch 19/20]\n",
       "    </div>\n",
       "    <table border=\"1\" class=\"dataframe\">\n",
       "  <thead>\n",
       " <tr style=\"text-align: left;\">\n",
       "      <th>Epoch</th>\n",
       "      <th>Training Loss</th>\n",
       "      <th>Validation Loss</th>\n",
       "      <th>Wer</th>\n",
       "      <th>Cer</th>\n",
       "    </tr>\n",
       "  </thead>\n",
       "  <tbody>\n",
       "    <tr>\n",
       "      <td>14</td>\n",
       "      <td>0.291200</td>\n",
       "      <td>0.492872</td>\n",
       "      <td>0.376268</td>\n",
       "      <td>0.148619</td>\n",
       "    </tr>\n",
       "    <tr>\n",
       "      <td>15</td>\n",
       "      <td>0.296900</td>\n",
       "      <td>0.499024</td>\n",
       "      <td>0.374941</td>\n",
       "      <td>0.148141</td>\n",
       "    </tr>\n",
       "    <tr>\n",
       "      <td>16</td>\n",
       "      <td>0.294600</td>\n",
       "      <td>0.494343</td>\n",
       "      <td>0.373498</td>\n",
       "      <td>0.148504</td>\n",
       "    </tr>\n",
       "    <tr>\n",
       "      <td>17</td>\n",
       "      <td>0.285100</td>\n",
       "      <td>0.489323</td>\n",
       "      <td>0.371703</td>\n",
       "      <td>0.147708</td>\n",
       "    </tr>\n",
       "    <tr>\n",
       "      <td>18</td>\n",
       "      <td>0.279000</td>\n",
       "      <td>0.497661</td>\n",
       "      <td>0.369284</td>\n",
       "      <td>0.146382</td>\n",
       "    </tr>\n",
       "    <tr>\n",
       "      <td>19</td>\n",
       "      <td>0.271800</td>\n",
       "      <td>0.493870</td>\n",
       "      <td>0.369830</td>\n",
       "      <td>0.146471</td>\n",
       "    </tr>\n",
       "  </tbody>\n",
       "</table><p>"
      ],
      "text/plain": [
       "<IPython.core.display.HTML object>"
      ]
     },
     "metadata": {},
     "output_type": "display_data"
    },
    {
     "name": "stderr",
     "output_type": "stream",
     "text": [
      "The following columns in the evaluation set don't have a corresponding argument in `Wav2Vec2ForCTC.forward` and have been ignored: input_length. If input_length are not expected by `Wav2Vec2ForCTC.forward`,  you can safely ignore this message.\n",
      "***** Running Evaluation *****\n",
      "  Num examples = 3298\n",
      "  Batch size = 24\n",
      "Saving model checkpoint to ./urdumodel/checkpoint-8000\n",
      "Configuration saved in ./urdumodel/checkpoint-8000/config.json\n",
      "Model weights saved in ./urdumodel/checkpoint-8000/pytorch_model.bin\n",
      "Feature extractor saved in ./urdumodel/checkpoint-8000/preprocessor_config.json\n",
      "Feature extractor saved in ./urdumodel/preprocessor_config.json\n",
      "Deleting older checkpoint [urdumodel/checkpoint-7000] due to args.save_total_limit\n",
      "The following columns in the evaluation set don't have a corresponding argument in `Wav2Vec2ForCTC.forward` and have been ignored: input_length. If input_length are not expected by `Wav2Vec2ForCTC.forward`,  you can safely ignore this message.\n",
      "***** Running Evaluation *****\n",
      "  Num examples = 3298\n",
      "  Batch size = 24\n",
      "Saving model checkpoint to ./urdumodel/checkpoint-8500\n",
      "Configuration saved in ./urdumodel/checkpoint-8500/config.json\n",
      "Model weights saved in ./urdumodel/checkpoint-8500/pytorch_model.bin\n",
      "Feature extractor saved in ./urdumodel/checkpoint-8500/preprocessor_config.json\n",
      "Deleting older checkpoint [urdumodel/checkpoint-7500] due to args.save_total_limit\n",
      "The following columns in the evaluation set don't have a corresponding argument in `Wav2Vec2ForCTC.forward` and have been ignored: input_length. If input_length are not expected by `Wav2Vec2ForCTC.forward`,  you can safely ignore this message.\n",
      "***** Running Evaluation *****\n",
      "  Num examples = 3298\n",
      "  Batch size = 24\n",
      "Saving model checkpoint to ./urdumodel/checkpoint-9000\n",
      "Configuration saved in ./urdumodel/checkpoint-9000/config.json\n",
      "Model weights saved in ./urdumodel/checkpoint-9000/pytorch_model.bin\n",
      "Feature extractor saved in ./urdumodel/checkpoint-9000/preprocessor_config.json\n",
      "Deleting older checkpoint [urdumodel/checkpoint-8000] due to args.save_total_limit\n",
      "The following columns in the evaluation set don't have a corresponding argument in `Wav2Vec2ForCTC.forward` and have been ignored: input_length. If input_length are not expected by `Wav2Vec2ForCTC.forward`,  you can safely ignore this message.\n",
      "***** Running Evaluation *****\n",
      "  Num examples = 3298\n",
      "  Batch size = 24\n",
      "Saving model checkpoint to ./urdumodel/checkpoint-9500\n",
      "Configuration saved in ./urdumodel/checkpoint-9500/config.json\n",
      "Model weights saved in ./urdumodel/checkpoint-9500/pytorch_model.bin\n",
      "Feature extractor saved in ./urdumodel/checkpoint-9500/preprocessor_config.json\n",
      "Deleting older checkpoint [urdumodel/checkpoint-8500] due to args.save_total_limit\n",
      "The following columns in the evaluation set don't have a corresponding argument in `Wav2Vec2ForCTC.forward` and have been ignored: input_length. If input_length are not expected by `Wav2Vec2ForCTC.forward`,  you can safely ignore this message.\n",
      "***** Running Evaluation *****\n",
      "  Num examples = 3298\n",
      "  Batch size = 24\n",
      "Saving model checkpoint to ./urdumodel/checkpoint-10000\n",
      "Configuration saved in ./urdumodel/checkpoint-10000/config.json\n",
      "Model weights saved in ./urdumodel/checkpoint-10000/pytorch_model.bin\n",
      "Feature extractor saved in ./urdumodel/checkpoint-10000/preprocessor_config.json\n",
      "Deleting older checkpoint [urdumodel/checkpoint-9000] due to args.save_total_limit\n",
      "The following columns in the evaluation set don't have a corresponding argument in `Wav2Vec2ForCTC.forward` and have been ignored: input_length. If input_length are not expected by `Wav2Vec2ForCTC.forward`,  you can safely ignore this message.\n",
      "***** Running Evaluation *****\n",
      "  Num examples = 3298\n",
      "  Batch size = 24\n",
      "\n",
      "\n",
      "Training completed. Do not forget to share your model on huggingface.co/models =)\n",
      "\n",
      "\n"
     ]
    },
    {
     "data": {
      "text/plain": [
       "TrainOutput(global_step=10160, training_loss=0.07465291323624258, metrics={'train_runtime': 24494.024, 'train_samples_per_second': 39.869, 'train_steps_per_second': 0.415, 'total_flos': 2.0885985938243928e+20, 'train_loss': 0.07465291323624258, 'epoch': 20.0})"
      ]
     },
     "execution_count": 17,
     "metadata": {},
     "output_type": "execute_result"
    }
   ],
   "source": [
    "trainer.train()"
   ]
  },
  {
   "cell_type": "code",
   "execution_count": 18,
   "id": "094adab3",
   "metadata": {},
   "outputs": [
    {
     "name": "stderr",
     "output_type": "stream",
     "text": [
      "Feature extractor saved in ./urdumodel/preprocessor_config.json\n",
      "tokenizer config file saved in ./urdumodel/tokenizer_config.json\n",
      "Special tokens file saved in ./urdumodel/special_tokens_map.json\n"
     ]
    }
   ],
   "source": [
    "processor.save_pretrained('./urdumodel')"
   ]
  },
  {
   "cell_type": "code",
   "execution_count": 19,
   "id": "3e50546d",
   "metadata": {},
   "outputs": [
    {
     "name": "stderr",
     "output_type": "stream",
     "text": [
      "Saving model checkpoint to ./urdumodel\n",
      "Configuration saved in ./urdumodel/config.json\n",
      "Model weights saved in ./urdumodel/pytorch_model.bin\n",
      "Feature extractor saved in ./urdumodel/preprocessor_config.json\n",
      "Several commits (2) will be pushed upstream.\n",
      "The progress bars may be unreliable.\n"
     ]
    },
    {
     "data": {
      "application/vnd.jupyter.widget-view+json": {
       "model_id": "b4d3d41ca7b144efbe78e66548644560",
       "version_major": 2,
       "version_minor": 0
      },
      "text/plain": [
       "Upload file pytorch_model.bin:   0%|          | 3.33k/1.18G [00:00<?, ?B/s]"
      ]
     },
     "metadata": {},
     "output_type": "display_data"
    },
    {
     "name": "stderr",
     "output_type": "stream",
     "text": [
      "remote: Scanning LFS files for validity, may be slow...        \n",
      "remote: LFS file scan complete.        \n",
      "To https://huggingface.co/Talha/urdumodel\n",
      "   390a038..4238c1d  main -> main\n",
      "\n",
      "Dropping the following result as it does not have all the necessary fields:\n",
      "{}\n",
      "To https://huggingface.co/Talha/urdumodel\n",
      "   4238c1d..3279d9d  main -> main\n",
      "\n"
     ]
    },
    {
     "data": {
      "text/plain": [
       "'https://huggingface.co/Talha/urdumodel/commit/4238c1d4ba5878e4ca456c634312666616b763e9'"
      ]
     },
     "execution_count": 19,
     "metadata": {},
     "output_type": "execute_result"
    }
   ],
   "source": [
    "trainer.push_to_hub()"
   ]
  },
  {
   "cell_type": "code",
   "execution_count": null,
   "id": "af778118",
   "metadata": {},
   "outputs": [],
   "source": []
  }
 ],
 "metadata": {
  "kernelspec": {
   "display_name": "Python 3 (ipykernel)",
   "language": "python",
   "name": "python3"
  },
  "language_info": {
   "codemirror_mode": {
    "name": "ipython",
    "version": 3
   },
   "file_extension": ".py",
   "mimetype": "text/x-python",
   "name": "python",
   "nbconvert_exporter": "python",
   "pygments_lexer": "ipython3",
   "version": "3.8.10"
  }
 },
 "nbformat": 4,
 "nbformat_minor": 5
}
